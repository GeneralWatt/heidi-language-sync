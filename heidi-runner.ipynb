{
 "cells": [
  {
   "cell_type": "code",
   "execution_count": 1,
   "metadata": {},
   "outputs": [],
   "source": [
    "import importlib\n",
    "import misc; importlib.reload(misc)\n",
    "import ffmpeg_wrap; importlib.reload(ffmpeg_wrap)\n",
    "import signal_tools as st; importlib.reload(st)\n",
    "import fft; importlib.reload(fft) \n",
    "\n",
    "import pylab as plt\n",
    "import numpy as np\n",
    "\n",
    "import shutil\n",
    "from os import path\n",
    "from collections import defaultdict, OrderedDict"
   ]
  },
  {
   "cell_type": "code",
   "execution_count": 2,
   "metadata": {},
   "outputs": [],
   "source": [
    "import os\n",
    "import sys\n",
    "curdrive = '/media/simon/Die is Simon se eie hardeskyf' #path.abspath(os.getcwd())[:2]\n",
    "\n",
    "japdir = curdrive+\"/Backups/#Torrents/Heidi_Girl_of_the_Alps_BD_Simu\"\n",
    "afrdir = curdrive+\"/Backups/#Torrents/Heidi-VHS\""
   ]
  },
  {
   "cell_type": "code",
   "execution_count": 3,
   "metadata": {
    "scrolled": false
   },
   "outputs": [
    {
     "name": "stdout",
     "output_type": "stream",
     "text": [
      "Reading frames for /media/simon/Die is Simon se eie hardeskyf/Backups/#Torrents/Heidi-VHS/Heidi-S01E01_VHS.mp4\n",
      "Reading frames for /media/simon/Die is Simon se eie hardeskyf/Backups/#Torrents/Heidi_Girl_of_the_Alps_BD_Simu/Heidi_Girl_of_the_Alps_BD_Ep01_Simu.mkv\n",
      "Reading audio from /media/simon/Die is Simon se eie hardeskyf/Backups/#Torrents/Heidi-VHS/Heidi-S01E01_VHS.mp4\n",
      "ffmpeg -i /media/simon/Die is Simon se eie hardeskyf/Backups/#Torrents/Heidi-VHS/Heidi-S01E01_VHS.mp4 -f s16le -acodec pcm_s16le -ar 48000 -ac 2 -\n",
      "Generating delay maps\n",
      "Generating delay map 1/30 ...\n"
     ]
    },
    {
     "name": "stderr",
     "output_type": "stream",
     "text": [
      "/home/simon/anaconda3/lib/python3.6/site-packages/scipy/signal/signaltools.py:2223: FutureWarning: Using a non-tuple sequence for multidimensional indexing is deprecated; use `arr[tuple(seq)]` instead of `arr[seq]`. In the future this will be interpreted as an array index, `arr[np.array(seq)]`, which will result either in an error or a different result.\n",
      "  Y[sl] = X[sl]\n",
      "/home/simon/anaconda3/lib/python3.6/site-packages/scipy/signal/signaltools.py:2225: FutureWarning: Using a non-tuple sequence for multidimensional indexing is deprecated; use `arr[tuple(seq)]` instead of `arr[seq]`. In the future this will be interpreted as an array index, `arr[np.array(seq)]`, which will result either in an error or a different result.\n",
      "  Y[sl] = X[sl]\n",
      "/home/simon/anaconda3/lib/python3.6/site-packages/scipy/signal/signaltools.py:2233: FutureWarning: Using a non-tuple sequence for multidimensional indexing is deprecated; use `arr[tuple(seq)]` instead of `arr[seq]`. In the future this will be interpreted as an array index, `arr[np.array(seq)]`, which will result either in an error or a different result.\n",
      "  Y[sl] /= 2  # halve the component at -N/2\n",
      "/home/simon/anaconda3/lib/python3.6/site-packages/scipy/signal/signaltools.py:2234: FutureWarning: Using a non-tuple sequence for multidimensional indexing is deprecated; use `arr[tuple(seq)]` instead of `arr[seq]`. In the future this will be interpreted as an array index, `arr[np.array(seq)]`, which will result either in an error or a different result.\n",
      "  temp = Y[sl]\n",
      "/home/simon/anaconda3/lib/python3.6/site-packages/scipy/signal/signaltools.py:2236: FutureWarning: Using a non-tuple sequence for multidimensional indexing is deprecated; use `arr[tuple(seq)]` instead of `arr[seq]`. In the future this will be interpreted as an array index, `arr[np.array(seq)]`, which will result either in an error or a different result.\n",
      "  Y[sl] = temp  # set that equal to the component at -N/2\n"
     ]
    },
    {
     "ename": "ValueError",
     "evalue": "operands could not be broadcast together with shapes (25,) (20,) ",
     "output_type": "error",
     "traceback": [
      "\u001b[0;31m---------------------------------------------------------------------------\u001b[0m",
      "\u001b[0;31mValueError\u001b[0m                                Traceback (most recent call last)",
      "\u001b[0;32m<ipython-input-3-b6e71cf986a1>\u001b[0m in \u001b[0;36m<module>\u001b[0;34m\u001b[0m\n\u001b[1;32m     42\u001b[0m         \u001b[0mprint\u001b[0m\u001b[0;34m(\u001b[0m\u001b[0;34m\"Generating delay map %d/%d ...\"\u001b[0m\u001b[0;34m%\u001b[0m\u001b[0;34m(\u001b[0m\u001b[0mi\u001b[0m\u001b[0;34m+\u001b[0m\u001b[0;36m1\u001b[0m\u001b[0;34m,\u001b[0m \u001b[0mn_maps\u001b[0m\u001b[0;34m)\u001b[0m\u001b[0;34m)\u001b[0m\u001b[0;34m\u001b[0m\u001b[0m\n\u001b[1;32m     43\u001b[0m         \u001b[0;31m#                                            (2min   , 10s )\u001b[0m\u001b[0;34m\u001b[0m\u001b[0;34m\u001b[0m\u001b[0m\n\u001b[0;32m---> 44\u001b[0;31m         \u001b[0mdmap\u001b[0m \u001b[0;34m=\u001b[0m \u001b[0mst\u001b[0m\u001b[0;34m.\u001b[0m\u001b[0mfind_mapping\u001b[0m\u001b[0;34m(\u001b[0m\u001b[0mv1\u001b[0m\u001b[0;34m,\u001b[0m \u001b[0mv2\u001b[0m\u001b[0;34m,\u001b[0m \u001b[0mbordercontrol\u001b[0m\u001b[0;34m=\u001b[0m\u001b[0;34m(\u001b[0m\u001b[0;36m24\u001b[0m\u001b[0;34m*\u001b[0m\u001b[0;36m60\u001b[0m\u001b[0;34m*\u001b[0m\u001b[0;36m2\u001b[0m\u001b[0;34m,\u001b[0m \u001b[0;36m24\u001b[0m\u001b[0;34m*\u001b[0m\u001b[0;36m10\u001b[0m\u001b[0;34m)\u001b[0m\u001b[0;34m)\u001b[0m\u001b[0;34m\u001b[0m\u001b[0m\n\u001b[0m\u001b[1;32m     45\u001b[0m \u001b[0;34m\u001b[0m\u001b[0m\n\u001b[1;32m     46\u001b[0m         \u001b[0mnp\u001b[0m\u001b[0;34m.\u001b[0m\u001b[0msave\u001b[0m\u001b[0;34m(\u001b[0m\u001b[0mfnames\u001b[0m\u001b[0;34m.\u001b[0m\u001b[0mdmap_dumps\u001b[0m\u001b[0;34m+\u001b[0m\u001b[0;34m'/%03d.npy'\u001b[0m\u001b[0;34m%\u001b[0m\u001b[0mi\u001b[0m\u001b[0;34m,\u001b[0m \u001b[0mdmap\u001b[0m\u001b[0;34m)\u001b[0m\u001b[0;34m\u001b[0m\u001b[0m\n",
      "\u001b[0;32m~/devel/heidi-language-sync/signal_tools.py\u001b[0m in \u001b[0;36mfind_mapping\u001b[0;34m(v1, v2, vmap, bordercontrol, show_result)\u001b[0m\n\u001b[1;32m    149\u001b[0m     \u001b[0;31m#cut similarly-placed-same-length pieces from the two signal and find their phase shifts,\u001b[0m\u001b[0;34m\u001b[0m\u001b[0;34m\u001b[0m\u001b[0m\n\u001b[1;32m    150\u001b[0m     \u001b[0;31m#fractions = [1,3,x,x,x...]\u001b[0m\u001b[0;34m\u001b[0m\u001b[0;34m\u001b[0m\u001b[0m\n\u001b[0;32m--> 151\u001b[0;31m     \u001b[0mfractions\u001b[0m \u001b[0;34m=\u001b[0m \u001b[0mnp\u001b[0m\u001b[0;34m.\u001b[0m\u001b[0mr_\u001b[0m\u001b[0;34m[\u001b[0m\u001b[0;36m1\u001b[0m\u001b[0;34m,\u001b[0m \u001b[0;36m3\u001b[0m\u001b[0;34m,\u001b[0m \u001b[0;36m5\u001b[0m\u001b[0;34m,\u001b[0m \u001b[0mnp\u001b[0m\u001b[0;34m.\u001b[0m\u001b[0mlinspace\u001b[0m\u001b[0;34m(\u001b[0m\u001b[0;36m0\u001b[0m\u001b[0;34m,\u001b[0m \u001b[0;36m20\u001b[0m\u001b[0;34m,\u001b[0m \u001b[0;36m25\u001b[0m\u001b[0;34m)\u001b[0m \u001b[0;34m+\u001b[0m \u001b[0mnp\u001b[0m\u001b[0;34m.\u001b[0m\u001b[0mrandom\u001b[0m\u001b[0;34m.\u001b[0m\u001b[0mrand\u001b[0m\u001b[0;34m(\u001b[0m\u001b[0;36m20\u001b[0m\u001b[0;34m)\u001b[0m\u001b[0;34m*\u001b[0m\u001b[0;36m5\u001b[0m\u001b[0;34m]\u001b[0m\u001b[0;34m\u001b[0m\u001b[0m\n\u001b[0m\u001b[1;32m    152\u001b[0m \u001b[0;34m\u001b[0m\u001b[0m\n\u001b[1;32m    153\u001b[0m     \u001b[0;32mfor\u001b[0m \u001b[0mfrac\u001b[0m \u001b[0;32min\u001b[0m \u001b[0mfractions\u001b[0m\u001b[0;34m:\u001b[0m\u001b[0;34m\u001b[0m\u001b[0m\n",
      "\u001b[0;31mValueError\u001b[0m: operands could not be broadcast together with shapes (25,) (20,) "
     ]
    }
   ],
   "source": [
    "import signal_tools as st; importlib.reload(st)\n",
    "\n",
    "filesafr = [file for file in misc.dirfiles(afrdir) if file.lower().endswith('.mp4')]\n",
    "filesjap = [file for file in misc.dirfiles(japdir) if file.lower().endswith('.mkv')]\n",
    "\n",
    "fnames_lst = [st.generate_filenames(file_afr, file_jap, file_afr, id=i+1)\n",
    "              for i, (file_afr, file_jap) in enumerate(zip(filesafr, filesjap))]\n",
    "\n",
    "for ii, fnames in enumerate(fnames_lst):\n",
    "    #################################################################\n",
    "    #\n",
    "    #  Part 1\n",
    "    #################################################################\n",
    "    print('Reading frames for '+fnames.discard_video)\n",
    "    v1, frames1 = st.read_2D_video_signal(fnames.discard_video)\n",
    "    print('Reading frames for '+fnames.desired_video)\n",
    "    v2, frames2 = st.read_2D_video_signal(fnames.desired_video)\n",
    "\n",
    "    np.save(fnames.discard_signal, v1)\n",
    "    np.save(fnames.desired_signal, v2)\n",
    "    np.save(fnames.discard_frames, frames1)\n",
    "    np.save(fnames.desired_frames, frames2)\n",
    "    \n",
    "    print(\"Reading audio from \"+fnames.desired_audio)\n",
    "    arr, freq1 = ffmpeg_wrap.read_as_audio(fnames.desired_audio)\n",
    "    np.save(fnames.input_audio, arr)\n",
    "    \n",
    "    #################################################################\n",
    "    #\n",
    "    #  Part 2\n",
    "    #################################################################\n",
    "    v1 = np.load(fnames.discard_signal)\n",
    "    v2 = np.load(fnames.desired_signal)\n",
    "    \n",
    "    shutil.rmtree(fnames.dmap_dumps, ignore_errors=True)\n",
    "    os.makedirs(fnames.dmap_dumps)\n",
    "    \n",
    "    print(\"Generating delay maps\")\n",
    "    mapping = []\n",
    "    n_maps = 30\n",
    "    for i in range(n_maps):\n",
    "        print(\"Generating delay map %d/%d ...\"%(i+1, n_maps))\n",
    "        #                                            (2min   , 10s ) \n",
    "        dmap = st.find_mapping(v1, v2, bordercontrol=(24*60*2, 24*10))\n",
    "\n",
    "        np.save(fnames.dmap_dumps+'/%03d.npy'%i, dmap)\n",
    "\n",
    "        mapping.append(dmap)\n",
    "    \n",
    "    \n",
    "    #################################################################\n",
    "    #\n",
    "    #  Part 3\n",
    "    #################################################################\n",
    "    print(\"Find best fit from these multiple map attempts ...\")\n",
    "    mapping = [np.load(i) for i in misc.dirfiles(fnames.dmap_dumps)]\n",
    "\n",
    "    medianmap = np.median(mapping, axis=0)\n",
    "\n",
    "    np.save(fnames.dmap, medianmap)\n",
    "\n",
    "    frames1 = np.load(fnames.discard_frames)\n",
    "\n",
    "    dmap_fix = st.fix_dmap_warps(medianmap, fnames)\n",
    "\n",
    "    np.save(fnames.dmap_smooth, dmap_fix)\n",
    "    \n",
    "    plt.figure(figsize=(12,4))\n",
    "    plt.plot(dmap_fix)\n",
    "    plt.xlabel=os.path.split(fnames.desired_video)[-1]\n",
    "    plt.show()\n",
    "\n",
    "    #################################################################\n",
    "    #\n",
    "    #  Part 4\n",
    "    #################################################################\n",
    "    print(\"Warp the audio ...\")\n",
    "    st.warp_audio(fnames)\n",
    "    \n",
    "    #################################################################\n",
    "    #\n",
    "    #  Part 5\n",
    "    #################################################################\n",
    "    print(\"Fit the audio to the video ...\")\n",
    "    st.mux_audio_to_video(fnames)"
   ]
  },
  {
   "cell_type": "code",
   "execution_count": null,
   "metadata": {},
   "outputs": [],
   "source": []
  }
 ],
 "metadata": {
  "kernelspec": {
   "display_name": "Python 3",
   "language": "python",
   "name": "python3"
  },
  "language_info": {
   "codemirror_mode": {
    "name": "ipython",
    "version": 3
   },
   "file_extension": ".py",
   "mimetype": "text/x-python",
   "name": "python",
   "nbconvert_exporter": "python",
   "pygments_lexer": "ipython3",
   "version": "3.6.6"
  }
 },
 "nbformat": 4,
 "nbformat_minor": 1
}
