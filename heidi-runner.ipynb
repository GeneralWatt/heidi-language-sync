{
 "cells": [
  {
   "cell_type": "code",
   "metadata": {
    "ExecuteTime": {
     "end_time": "2025-06-18T10:47:03.066650Z",
     "start_time": "2025-06-18T10:46:58.007578Z"
    }
   },
   "source": [
    "import importlib\n",
    "import misc; importlib.reload(misc)\n",
    "import ffmpeg_wrap; importlib.reload(ffmpeg_wrap)\n",
    "import signal_tools as st; importlib.reload(st)\n",
    "import fft; importlib.reload(fft) \n",
    "\n",
    "import pylab as plt \n",
    "import numpy as np\n",
    "import warnings\n",
    "import shutil\n",
    "from os import path\n",
    "from collections import defaultdict, OrderedDict"
   ],
   "outputs": [
    {
     "ename": "ImportError",
     "evalue": "cannot import name 'Callable' from 'collections' (F:\\Anaconda\\Lib\\collections\\__init__.py)",
     "output_type": "error",
     "traceback": [
      "\u001B[1;31m---------------------------------------------------------------------------\u001B[0m",
      "\u001B[1;31mImportError\u001B[0m                               Traceback (most recent call last)",
      "Cell \u001B[1;32mIn[1], line 2\u001B[0m\n\u001B[0;32m      1\u001B[0m \u001B[38;5;28;01mimport\u001B[39;00m \u001B[38;5;21;01mimportlib\u001B[39;00m\n\u001B[1;32m----> 2\u001B[0m \u001B[38;5;28;01mimport\u001B[39;00m \u001B[38;5;21;01mmisc\u001B[39;00m; importlib\u001B[38;5;241m.\u001B[39mreload(misc)\n\u001B[0;32m      3\u001B[0m \u001B[38;5;28;01mimport\u001B[39;00m \u001B[38;5;21;01mffmpeg_wrap\u001B[39;00m; importlib\u001B[38;5;241m.\u001B[39mreload(ffmpeg_wrap)\n\u001B[0;32m      4\u001B[0m \u001B[38;5;28;01mimport\u001B[39;00m \u001B[38;5;21;01msignal_tools\u001B[39;00m \u001B[38;5;28;01mas\u001B[39;00m \u001B[38;5;21;01mst\u001B[39;00m; importlib\u001B[38;5;241m.\u001B[39mreload(st)\n",
      "File \u001B[1;32m~\\PycharmProjects\\heidi-language-sync\\misc.py:7\u001B[0m\n\u001B[0;32m      4\u001B[0m \u001B[38;5;28;01mimport\u001B[39;00m \u001B[38;5;21;01mnumpy\u001B[39;00m \u001B[38;5;28;01mas\u001B[39;00m \u001B[38;5;21;01mnp\u001B[39;00m\n\u001B[0;32m      5\u001B[0m \u001B[38;5;28;01mimport\u001B[39;00m \u001B[38;5;21;01mffmpeg_wrap\u001B[39;00m\n\u001B[1;32m----> 7\u001B[0m \u001B[38;5;28;01mfrom\u001B[39;00m \u001B[38;5;21;01mcollections\u001B[39;00m \u001B[38;5;28;01mimport\u001B[39;00m defaultdict, OrderedDict, Callable\n\u001B[0;32m      8\u001B[0m \u001B[38;5;28;01mclass\u001B[39;00m \u001B[38;5;21;01mOrderedDefaultDict\u001B[39;00m(OrderedDict):\n\u001B[0;32m      9\u001B[0m     \u001B[38;5;66;03m# Source: http://stackoverflow.com/a/6190500/562769\u001B[39;00m\n\u001B[0;32m     10\u001B[0m     \u001B[38;5;28;01mdef\u001B[39;00m \u001B[38;5;21m__init__\u001B[39m(\u001B[38;5;28mself\u001B[39m, default_factory\u001B[38;5;241m=\u001B[39m\u001B[38;5;28;01mNone\u001B[39;00m, \u001B[38;5;241m*\u001B[39ma, \u001B[38;5;241m*\u001B[39m\u001B[38;5;241m*\u001B[39mkw):\n",
      "\u001B[1;31mImportError\u001B[0m: cannot import name 'Callable' from 'collections' (F:\\Anaconda\\Lib\\collections\\__init__.py)"
     ]
    }
   ],
   "execution_count": 1
  },
  {
   "cell_type": "code",
   "execution_count": null,
   "metadata": {},
   "outputs": [],
   "source": [
    "import os\n",
    "import sys\n",
    "curdrive = '/media/simon/Die is Simon se eie hardeskyf' #path.abspath(os.getcwd())[:2]\n",
    "\n",
    "japdir = curdrive+\"/Backups/#Torrents/Heidi_Girl_of_the_Alps_BD_Simu\"\n",
    "afrdir = curdrive+\"/Backups/#Torrents/Heidi-VHS\"\n",
    "\n",
    "import signal_tools as st; importlib.reload(st)\n",
    "warnings.filterwarnings('ignore')\n",
    "\n",
    "filesafr = [file for file in misc.dirfiles(afrdir) if file.lower().endswith('.mp4')]\n",
    "filesjap = [file for file in misc.dirfiles(japdir) if file.lower().endswith('.mkv')]\n",
    "\n",
    "fnames_lst = [st.generate_filenames(file_afr, file_jap, file_afr, id=i+1)\n",
    "              for i, (file_afr, file_jap) in enumerate(zip(filesafr, filesjap))]"
   ]
  },
  {
   "cell_type": "code",
   "execution_count": null,
   "metadata": {
    "scrolled": false
   },
   "outputs": [],
   "source": [
    "for ii, fnames in enumerate(fnames_lst):\n",
    "    \n",
    "    print(\"*******************************\")\n",
    "    print(\"We are busy with video: \"+fnames.discard_video)\n",
    "    print(\"*******************************\")\n",
    "    #################################################################\n",
    "    #\n",
    "    #  Part 1\n",
    "    #################################################################\n",
    "    print('Reading frames for '+fnames.discard_video)\n",
    "    v1, frames1 = st.read_2D_video_signal(fnames.discard_video)\n",
    "    print('Reading frames for '+fnames.desired_video)\n",
    "    v2, frames2 = st.read_2D_video_signal(fnames.desired_video)\n",
    "\n",
    "    np.save(fnames.discard_signal, v1)\n",
    "    np.save(fnames.desired_signal, v2)\n",
    "    np.save(fnames.discard_frames, frames1)\n",
    "    np.save(fnames.desired_frames, frames2)\n",
    "    \n",
    "    print(\"Reading audio from \"+fnames.desired_audio)\n",
    "    arr, freq1 = ffmpeg_wrap.read_as_audio(fnames.desired_audio)\n",
    "    np.save(fnames.input_audio, arr)\n",
    "    \n",
    "    #################################################################\n",
    "    #\n",
    "    #  Part 2\n",
    "    #################################################################\n",
    "    v1 = np.load(fnames.discard_signal)\n",
    "    v2 = np.load(fnames.desired_signal)\n",
    "    \n",
    "    shutil.rmtree(fnames.dmap_dumps, ignore_errors=True)\n",
    "    os.makedirs(fnames.dmap_dumps)\n",
    "    \n",
    "    print(\"Generating delay maps: \", end='', flush=True)\n",
    "    mapping = []\n",
    "    n_maps = 30\n",
    "    for i in range(n_maps):\n",
    "        if i%5 ==0:\n",
    "            print(\"%d/%d \"%(i+1, n_maps), end='', flush=True)\n",
    "\n",
    "        #                                            (2min   , 10s ) \n",
    "        dmap = st.find_mapping(v1, v2, bordercontrol=(24*60*2, 24*10))\n",
    "\n",
    "        np.save(fnames.dmap_dumps+'/%03d.npy'%i, dmap)\n",
    "\n",
    "        mapping.append(dmap)\n",
    "    print()\n",
    "\n",
    "    \n",
    "    #################################################################\n",
    "    #\n",
    "    #  Part 3\n",
    "    #################################################################\n",
    "    print(\"Find best fit from these multiple map attempts ...\")\n",
    "    mapping = [np.load(i) for i in misc.dirfiles(fnames.dmap_dumps)]\n",
    "\n",
    "    medianmap = np.median(mapping, axis=0)\n",
    "\n",
    "    np.save(fnames.dmap, medianmap)\n",
    "\n",
    "    frames1 = np.load(fnames.discard_frames)\n",
    "\n",
    "    dmap_fix = st.fix_dmap_warps(medianmap, fnames)\n",
    "\n",
    "    np.save(fnames.dmap_smooth, dmap_fix)\n",
    "    \n",
    "    plt.figure(figsize=(12,4))\n",
    "    plt.plot(dmap_fix)\n",
    "    plt.plot(medianmap)\n",
    "    plt.xlabel(os.path.split(fnames.desired_video)[-1])\n",
    "    plt.show()\n",
    "\n",
    "    \n",
    "    #################################################################\n",
    "    #\n",
    "    #  Part 4\n",
    "    #################################################################\n",
    "    print(\"Warp the audio ...\")\n",
    "    st.warp_audio(fnames)\n",
    "    \n",
    "    #################################################################\n",
    "    #\n",
    "    #  Part 5\n",
    "    #################################################################\n",
    "    print(\"Fit the audio to the video ...\")\n",
    "    st.mux_audio_to_video(fnames)\n",
    "    "
   ]
  }
 ],
 "metadata": {
  "kernelspec": {
   "display_name": "Python [conda env:base] *",
   "language": "python",
   "name": "conda-base-py"
  },
  "language_info": {
   "codemirror_mode": {
    "name": "ipython",
    "version": 3
   },
   "file_extension": ".py",
   "mimetype": "text/x-python",
   "name": "python",
   "nbconvert_exporter": "python",
   "pygments_lexer": "ipython3",
   "version": "3.6.6"
  }
 },
 "nbformat": 4,
 "nbformat_minor": 1
}
